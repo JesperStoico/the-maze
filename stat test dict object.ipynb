{
 "cells": [
  {
   "cell_type": "code",
   "execution_count": 1,
   "metadata": {},
   "outputs": [],
   "source": [
    "class Maze():\n",
    "    def __init__(self, width, height):\n",
    "        self.width = width\n",
    "        self.height = height\n",
    "        self.Stats = Stats()\n",
    "\n",
    "class Stats():\n",
    "    \n",
    "    def __init__(self):\n",
    "        self.solutions = list() # list of dictionaries with solution stats\n",
    "    \n",
    "    \n",
    "    def add_solution(self, algo, route, steps, time):\n",
    "        self.solutions.append( {'algo': algo,   # strig - algorithm used to solve maze \n",
    "                                'route': route, # list - route (solution) through maze\n",
    "                                'steps': steps, # list - steps taken to achieve solution\n",
    "                                'time': time    # decimal - solution time\n",
    "                                }\n",
    "                             )\n",
    "    \n",
    "    def get_solutions(self, algo='all'):\n",
    "        if algo == 'all':\n",
    "            if self.solutions:\n",
    "                # for solution in self.solutions:\n",
    "                    # for k, v in solution.items():\n",
    "                    #    print('{}: {}'.format(k, v))\n",
    "                    # print()\n",
    "                return self.solutions\n",
    "        else:\n",
    "            # lambda function filters the list based on the algo input\n",
    "            # algo = 'dfs' will return all solutions for DFS solver\n",
    "            result = list(filter(lambda x: algo in x['algo'], self.solutions))\n",
    "            return result\n",
    "\n",
    "                \n",
    "    def get_times(self, algo='all'):\n",
    "        if algo == 'all':\n",
    "            if self.solutions:\n",
    "                times = []\n",
    "                for item in self.solutions:\n",
    "                    # print(item['time'])\n",
    "                    times.append(item['time'])\n",
    "                return times\n",
    "        else:\n",
    "            # second lambda function filters the list of dicts based on algo input\n",
    "            # filtered list is passed to the first map lambda function\n",
    "            # which returns all the values of the time key\n",
    "            result = list(map(lambda x: x['time'], filter(lambda x: algo in x['algo'], self.solutions)))\n",
    "            return result\n",
    "        \n",
    "    def solution_time_avg(self, algo='all'):\n",
    "        return sum(self.get_times(algo)) / len(self.get_times(algo))\n",
    "    \n",
    "    def solution_time_max(self, algo='all'):\n",
    "        return max(self.get_times(algo))\n",
    "    \n",
    "    def solution_time_min(self, algo='all'):\n",
    "        return min(self.get_times(algo))\n"
   ]
  },
  {
   "cell_type": "code",
   "execution_count": 2,
   "metadata": {},
   "outputs": [],
   "source": [
    "maze1 = Maze(10, 10)"
   ]
  },
  {
   "cell_type": "code",
   "execution_count": 3,
   "metadata": {},
   "outputs": [],
   "source": [
    "maze1.Stats.add_solution('dfs', [], [], 2.22)\n",
    "maze1.Stats.add_solution('dfs', [], [], 1.32)\n",
    "maze1.Stats.add_solution('dfs', [], [], 1.62)\n",
    "maze1.Stats.add_solution('dfs', [], [], 0.72)\n",
    "maze1.Stats.add_solution('dfs', [], [], 1.72)\n",
    "maze1.Stats.add_solution('a*', [], [], 1.85)\n",
    "maze1.Stats.add_solution('a*', [], [], 1.12)\n",
    "maze1.Stats.add_solution('a*', [], [], 1.34)\n",
    "maze1.Stats.add_solution('a*', [], [], 0.62)\n",
    "maze1.Stats.add_solution('a*', [], [], 0.95)"
   ]
  },
  {
   "cell_type": "code",
   "execution_count": 4,
   "metadata": {},
   "outputs": [
    {
     "data": {
      "text/plain": [
       "[{'algo': 'dfs', 'route': [], 'steps': [], 'time': 2.22},\n",
       " {'algo': 'dfs', 'route': [], 'steps': [], 'time': 1.32},\n",
       " {'algo': 'dfs', 'route': [], 'steps': [], 'time': 1.62},\n",
       " {'algo': 'dfs', 'route': [], 'steps': [], 'time': 0.72},\n",
       " {'algo': 'dfs', 'route': [], 'steps': [], 'time': 1.72},\n",
       " {'algo': 'a*', 'route': [], 'steps': [], 'time': 1.85},\n",
       " {'algo': 'a*', 'route': [], 'steps': [], 'time': 1.12},\n",
       " {'algo': 'a*', 'route': [], 'steps': [], 'time': 1.34},\n",
       " {'algo': 'a*', 'route': [], 'steps': [], 'time': 0.62},\n",
       " {'algo': 'a*', 'route': [], 'steps': [], 'time': 0.95}]"
      ]
     },
     "execution_count": 4,
     "metadata": {},
     "output_type": "execute_result"
    }
   ],
   "source": [
    "maze1.Stats.get_solutions()"
   ]
  },
  {
   "cell_type": "code",
   "execution_count": 5,
   "metadata": {},
   "outputs": [
    {
     "data": {
      "text/plain": [
       "[{'algo': 'dfs', 'route': [], 'steps': [], 'time': 2.22},\n",
       " {'algo': 'dfs', 'route': [], 'steps': [], 'time': 1.32},\n",
       " {'algo': 'dfs', 'route': [], 'steps': [], 'time': 1.62},\n",
       " {'algo': 'dfs', 'route': [], 'steps': [], 'time': 0.72},\n",
       " {'algo': 'dfs', 'route': [], 'steps': [], 'time': 1.72}]"
      ]
     },
     "execution_count": 5,
     "metadata": {},
     "output_type": "execute_result"
    }
   ],
   "source": [
    "maze1.Stats.get_solutions('dfs')"
   ]
  },
  {
   "cell_type": "code",
   "execution_count": 6,
   "metadata": {},
   "outputs": [
    {
     "data": {
      "text/plain": [
       "[2.22, 1.32, 1.62, 0.72, 1.72, 1.85, 1.12, 1.34, 0.62, 0.95]"
      ]
     },
     "execution_count": 6,
     "metadata": {},
     "output_type": "execute_result"
    }
   ],
   "source": [
    "maze1.Stats.get_times()"
   ]
  },
  {
   "cell_type": "code",
   "execution_count": 7,
   "metadata": {},
   "outputs": [
    {
     "data": {
      "text/plain": [
       "[2.22, 1.32, 1.62, 0.72, 1.72]"
      ]
     },
     "execution_count": 7,
     "metadata": {},
     "output_type": "execute_result"
    }
   ],
   "source": [
    "maze1.Stats.get_times('dfs')"
   ]
  },
  {
   "cell_type": "code",
   "execution_count": 8,
   "metadata": {},
   "outputs": [
    {
     "data": {
      "text/plain": [
       "0.62"
      ]
     },
     "execution_count": 8,
     "metadata": {},
     "output_type": "execute_result"
    }
   ],
   "source": [
    "maze1.Stats.solution_time_min()"
   ]
  },
  {
   "cell_type": "code",
   "execution_count": 9,
   "metadata": {},
   "outputs": [
    {
     "data": {
      "text/plain": [
       "0.72"
      ]
     },
     "execution_count": 9,
     "metadata": {},
     "output_type": "execute_result"
    }
   ],
   "source": [
    "maze1.Stats.solution_time_min('dfs')"
   ]
  },
  {
   "cell_type": "code",
   "execution_count": 10,
   "metadata": {},
   "outputs": [
    {
     "data": {
      "text/plain": [
       "2.22"
      ]
     },
     "execution_count": 10,
     "metadata": {},
     "output_type": "execute_result"
    }
   ],
   "source": [
    "maze1.Stats.solution_time_max()"
   ]
  },
  {
   "cell_type": "code",
   "execution_count": 11,
   "metadata": {},
   "outputs": [
    {
     "data": {
      "text/plain": [
       "1.85"
      ]
     },
     "execution_count": 11,
     "metadata": {},
     "output_type": "execute_result"
    }
   ],
   "source": [
    "maze1.Stats.solution_time_max('a*')"
   ]
  },
  {
   "cell_type": "code",
   "execution_count": 12,
   "metadata": {},
   "outputs": [
    {
     "data": {
      "text/plain": [
       "1.3479999999999999"
      ]
     },
     "execution_count": 12,
     "metadata": {},
     "output_type": "execute_result"
    }
   ],
   "source": [
    "maze1.Stats.solution_time_avg()"
   ]
  },
  {
   "cell_type": "code",
   "execution_count": 14,
   "metadata": {},
   "outputs": [
    {
     "data": {
      "text/plain": [
       "1.52"
      ]
     },
     "execution_count": 14,
     "metadata": {},
     "output_type": "execute_result"
    }
   ],
   "source": [
    "maze1.Stats.solution_time_avg('dfs')"
   ]
  }
 ],
 "metadata": {
  "kernelspec": {
   "display_name": "Python 3",
   "language": "python",
   "name": "python3"
  },
  "language_info": {
   "codemirror_mode": {
    "name": "ipython",
    "version": 3
   },
   "file_extension": ".py",
   "mimetype": "text/x-python",
   "name": "python",
   "nbconvert_exporter": "python",
   "pygments_lexer": "ipython3",
   "version": "3.7.4"
  }
 },
 "nbformat": 4,
 "nbformat_minor": 2
}
