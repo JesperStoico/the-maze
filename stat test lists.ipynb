{
 "cells": [
  {
   "cell_type": "code",
   "execution_count": 1,
   "metadata": {},
   "outputs": [],
   "source": [
    "class Maze():\n",
    "    def __init__(self, width, height):\n",
    "        self.width = width\n",
    "        self.height = height\n",
    "        self.stats = []\n",
    "        \n",
    "    def stat_time(self):\n",
    "        if self.stats:\n",
    "            for stat in self.stats:\n",
    "                print(stat.time)\n",
    "\n",
    "\n",
    "class Stat():\n",
    "    def __init__(self, route, steps, time):\n",
    "        self.route = route # list\n",
    "        self.steps = steps # list\n",
    "        self.time = time # decimal\n"
   ]
  },
  {
   "cell_type": "code",
   "execution_count": 2,
   "metadata": {},
   "outputs": [],
   "source": [
    "maze1 = Maze(10, 10)"
   ]
  },
  {
   "cell_type": "code",
   "execution_count": 5,
   "metadata": {},
   "outputs": [],
   "source": [
    "maze1.stats.append(Stat([], [], 2.22))\n",
    "maze1.stats.append(Stat([], [], 1.22))\n",
    "maze1.stats.append(Stat([], [], 1.45))\n",
    "maze1.stats.append(Stat([], [], 0.72))\n",
    "maze1.stats.append(Stat([], [], 2.52))"
   ]
  },
  {
   "cell_type": "code",
   "execution_count": 6,
   "metadata": {},
   "outputs": [
    {
     "name": "stdout",
     "output_type": "stream",
     "text": [
      "2.22\n",
      "2.22\n",
      "1.22\n",
      "1.45\n",
      "0.72\n",
      "2.52\n"
     ]
    }
   ],
   "source": [
    "maze1.stat_time()"
   ]
  },
  {
   "cell_type": "markdown",
   "metadata": {},
   "source": []
  }
 ],
 "metadata": {
  "kernelspec": {
   "display_name": "Python 3",
   "language": "python",
   "name": "python3"
  },
  "language_info": {
   "codemirror_mode": {
    "name": "ipython",
    "version": 3
   },
   "file_extension": ".py",
   "mimetype": "text/x-python",
   "name": "python",
   "nbconvert_exporter": "python",
   "pygments_lexer": "ipython3",
   "version": "3.7.4"
  }
 },
 "nbformat": 4,
 "nbformat_minor": 2
}
