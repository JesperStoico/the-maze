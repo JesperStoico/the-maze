{
 "cells": [
  {
   "cell_type": "code",
   "execution_count": 1,
   "metadata": {},
   "outputs": [],
   "source": [
    "class Maze():\n",
    "    def __init__(self, width, height):\n",
    "        self.width = width\n",
    "        self.height = height\n",
    "        self.solutions = [] # list of dictionaries with solutions stats\n",
    "        \n",
    "    def add_solution(route, steps, time):\n",
    "        self.solutions.append = { 'route': route, # list\n",
    "                                  'steps': steps, # list\n",
    "                                  'time': time    # decimal\n",
    "                                }\n",
    "    \n",
    "    def get_solutions(self):\n",
    "        if self.solutions:\n",
    "            for solution in self.solutions:\n",
    "                for k, v in solution.stat.items():\n",
    "                    print('{}: {}'.format(k, v))\n",
    "                print()\n",
    "                \n",
    "    def get_times(self):\n",
    "        if self.solutions:\n",
    "            for item in self.solutions:\n",
    "                print(item)\n",
    "\n",
    "\n",
    "class Stat():\n",
    "    def __init__(self, route, steps, time):\n",
    "        self.stat = { 'route': route, # list\n",
    "                      'steps': steps, # list\n",
    "                      'time': time    # decimal\n",
    "                    }\n",
    "\n"
   ]
  },
  {
   "cell_type": "code",
   "execution_count": 2,
   "metadata": {},
   "outputs": [],
   "source": [
    "maze1 = Maze(10, 10)"
   ]
  },
  {
   "cell_type": "code",
   "execution_count": 3,
   "metadata": {},
   "outputs": [],
   "source": [
    "maze1.solutions.append(Stat([], [], 2.22))\n",
    "maze1.solutions.append(Stat([], [], 1.22))\n",
    "maze1.solutions.append(Stat([], [], 1.45))\n",
    "maze1.solutions.append(Stat([], [], 0.72))\n",
    "maze1.solutions.append(Stat([], [], 2.52))"
   ]
  },
  {
   "cell_type": "code",
   "execution_count": 4,
   "metadata": {},
   "outputs": [
    {
     "name": "stdout",
     "output_type": "stream",
     "text": [
      "<__main__.Stat object at 0x10e65ccd0>\n",
      "<__main__.Stat object at 0x10e65cc90>\n",
      "<__main__.Stat object at 0x10e65cd10>\n",
      "<__main__.Stat object at 0x10e65cd90>\n",
      "<__main__.Stat object at 0x10e65ce10>\n"
     ]
    }
   ],
   "source": [
    "maze1.get_times()"
   ]
  },
  {
   "cell_type": "markdown",
   "metadata": {},
   "source": []
  }
 ],
 "metadata": {
  "kernelspec": {
   "display_name": "Python 3",
   "language": "python",
   "name": "python3"
  },
  "language_info": {
   "codemirror_mode": {
    "name": "ipython",
    "version": 3
   },
   "file_extension": ".py",
   "mimetype": "text/x-python",
   "name": "python",
   "nbconvert_exporter": "python",
   "pygments_lexer": "ipython3",
   "version": "3.7.4"
  }
 },
 "nbformat": 4,
 "nbformat_minor": 2
}
