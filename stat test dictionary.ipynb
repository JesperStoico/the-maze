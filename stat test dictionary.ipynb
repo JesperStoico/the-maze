{
 "cells": [
  {
   "cell_type": "code",
   "execution_count": 1,
   "metadata": {},
   "outputs": [],
   "source": [
    "class Maze():\n",
    "    def __init__(self, width, height):\n",
    "        self.width = width\n",
    "        self.height = height\n",
    "        self.solutions = list() # list of dictionaries with solution stats\n",
    "        \n",
    "    def add_solution(self, route, steps, time):\n",
    "        self.solutions.append( { 'route': route, # list\n",
    "                                  'steps': steps, # list\n",
    "                                  'time': time    # decimal\n",
    "                                }\n",
    "                             )\n",
    "    \n",
    "    def get_solutions(self):\n",
    "        if self.solutions:\n",
    "            for solution in self.solutions:\n",
    "                for k, v in solution.items():\n",
    "                    print('{}: {}'.format(k, v))\n",
    "                print()\n",
    "            return self.solutions\n",
    "                \n",
    "    def get_times(self):\n",
    "        if self.solutions:\n",
    "            times = []\n",
    "            for item in self.solutions:\n",
    "                # print(item['time'])\n",
    "                times.append(item['time'])\n",
    "            return times\n",
    "        \n",
    "    def solution_time_avg(self):\n",
    "        return sum(self.get_times()) / len(self.get_times())\n",
    "    \n",
    "    def solution_time_max(self):\n",
    "        return max(self.get_times())\n",
    "    \n",
    "    def solution_time_min(self):\n",
    "        return min(self.get_times())\n"
   ]
  },
  {
   "cell_type": "code",
   "execution_count": 2,
   "metadata": {},
   "outputs": [],
   "source": [
    "maze1 = Maze(10, 10)"
   ]
  },
  {
   "cell_type": "code",
   "execution_count": 3,
   "metadata": {},
   "outputs": [],
   "source": [
    "maze1.add_solution([], [], 2.22)\n",
    "maze1.add_solution([], [], 1.32)\n",
    "maze1.add_solution([], [], 1.22)\n",
    "maze1.add_solution([], [], 1.62)\n",
    "maze1.add_solution([], [], 0.72)\n",
    "maze1.add_solution([], [], 1.72)\n"
   ]
  },
  {
   "cell_type": "code",
   "execution_count": 4,
   "metadata": {},
   "outputs": [
    {
     "name": "stdout",
     "output_type": "stream",
     "text": [
      "route: []\n",
      "steps: []\n",
      "time: 2.22\n",
      "\n",
      "route: []\n",
      "steps: []\n",
      "time: 1.32\n",
      "\n",
      "route: []\n",
      "steps: []\n",
      "time: 1.22\n",
      "\n",
      "route: []\n",
      "steps: []\n",
      "time: 1.62\n",
      "\n",
      "route: []\n",
      "steps: []\n",
      "time: 0.72\n",
      "\n",
      "route: []\n",
      "steps: []\n",
      "time: 1.72\n",
      "\n"
     ]
    },
    {
     "data": {
      "text/plain": [
       "[{'route': [], 'steps': [], 'time': 2.22},\n",
       " {'route': [], 'steps': [], 'time': 1.32},\n",
       " {'route': [], 'steps': [], 'time': 1.22},\n",
       " {'route': [], 'steps': [], 'time': 1.62},\n",
       " {'route': [], 'steps': [], 'time': 0.72},\n",
       " {'route': [], 'steps': [], 'time': 1.72}]"
      ]
     },
     "execution_count": 4,
     "metadata": {},
     "output_type": "execute_result"
    }
   ],
   "source": [
    "maze1.get_solutions()"
   ]
  },
  {
   "cell_type": "code",
   "execution_count": 5,
   "metadata": {},
   "outputs": [
    {
     "data": {
      "text/plain": [
       "[2.22, 1.32, 1.22, 1.62, 0.72, 1.72]"
      ]
     },
     "execution_count": 5,
     "metadata": {},
     "output_type": "execute_result"
    }
   ],
   "source": [
    "maze1.get_times()"
   ]
  },
  {
   "cell_type": "code",
   "execution_count": 6,
   "metadata": {},
   "outputs": [
    {
     "data": {
      "text/plain": [
       "1.47"
      ]
     },
     "execution_count": 6,
     "metadata": {},
     "output_type": "execute_result"
    }
   ],
   "source": [
    "maze1.solution_time_avg()"
   ]
  },
  {
   "cell_type": "code",
   "execution_count": 7,
   "metadata": {},
   "outputs": [
    {
     "data": {
      "text/plain": [
       "2.22"
      ]
     },
     "execution_count": 7,
     "metadata": {},
     "output_type": "execute_result"
    }
   ],
   "source": [
    "maze1.solution_time_max()"
   ]
  },
  {
   "cell_type": "code",
   "execution_count": 8,
   "metadata": {},
   "outputs": [
    {
     "data": {
      "text/plain": [
       "0.72"
      ]
     },
     "execution_count": 8,
     "metadata": {},
     "output_type": "execute_result"
    }
   ],
   "source": [
    "maze1.solution_time_min()"
   ]
  }
 ],
 "metadata": {
  "kernelspec": {
   "display_name": "Python 3",
   "language": "python",
   "name": "python3"
  },
  "language_info": {
   "codemirror_mode": {
    "name": "ipython",
    "version": 3
   },
   "file_extension": ".py",
   "mimetype": "text/x-python",
   "name": "python",
   "nbconvert_exporter": "python",
   "pygments_lexer": "ipython3",
   "version": "3.7.4"
  }
 },
 "nbformat": 4,
 "nbformat_minor": 2
}
